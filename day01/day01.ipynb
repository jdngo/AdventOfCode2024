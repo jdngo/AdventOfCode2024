{
 "cells": [
  {
   "cell_type": "markdown",
   "id": "15a5a0ef-7d25-4324-a471-9d687e2fddba",
   "metadata": {},
   "source": [
    "# Part 1"
   ]
  },
  {
   "cell_type": "code",
   "execution_count": 5,
   "id": "a15e5175-c11f-4d12-a4d1-177de067e86b",
   "metadata": {},
   "outputs": [],
   "source": [
    "import numpy as np"
   ]
  },
  {
   "cell_type": "code",
   "execution_count": 6,
   "id": "bd9a1881-afc8-452f-b1fd-a84e010f236b",
   "metadata": {},
   "outputs": [
    {
     "data": {
      "text/plain": [
       "[['80414', '72092'],\n",
       " ['17250', '26414'],\n",
       " ['23063', '14603'],\n",
       " ['89663', '35210'],\n",
       " ['27237', '81657']]"
      ]
     },
     "execution_count": 6,
     "metadata": {},
     "output_type": "execute_result"
    }
   ],
   "source": [
    "with open(\"day01.txt\", \"r\") as file:\n",
    "    data = [i.split() for i in file.read().split(\"\\n\")]\n",
    "\n",
    "data[0:5]"
   ]
  },
  {
   "cell_type": "code",
   "execution_count": 7,
   "id": "baa99ff5-ccfc-4839-87fe-8a375aab9d89",
   "metadata": {},
   "outputs": [
    {
     "data": {
      "text/plain": [
       "(array([10078, 10154, 10202, 10412, 10448]),\n",
       " array([99783, 99816, 99819, 99853, 99883]))"
      ]
     },
     "execution_count": 7,
     "metadata": {},
     "output_type": "execute_result"
    }
   ],
   "source": [
    "list_1 = np.array([int(i[0]) for i in data])\n",
    "list_1.sort()\n",
    "list_1[0:5], list_1[-5:]"
   ]
  },
  {
   "cell_type": "code",
   "execution_count": 8,
   "id": "151c5e72-af48-4a78-9c2d-4d31c2204e5a",
   "metadata": {},
   "outputs": [
    {
     "data": {
      "text/plain": [
       "(array([10078, 10154, 10202, 10412, 10448]),\n",
       " array([99783, 99816, 99819, 99853, 99883]))"
      ]
     },
     "execution_count": 8,
     "metadata": {},
     "output_type": "execute_result"
    }
   ],
   "source": [
    "list_2 = np.array([int(i[1]) for i in data])\n",
    "list_1[0:5], list_1[-5:]"
   ]
  },
  {
   "cell_type": "code",
   "execution_count": 10,
   "id": "e5de9087-7ffe-4c71-9203-467fe618f538",
   "metadata": {},
   "outputs": [
    {
     "name": "stdout",
     "output_type": "stream",
     "text": [
      "30311846\n"
     ]
    }
   ],
   "source": [
    "print(np.abs(list_1 - list_2).sum())"
   ]
  },
  {
   "cell_type": "markdown",
   "id": "642a0f82-7cab-4588-bc93-a8fac1b0aa8b",
   "metadata": {},
   "source": [
    "# Part 2"
   ]
  },
  {
   "cell_type": "code",
   "execution_count": 11,
   "id": "aab8cdf2-2417-410e-8e26-148631bde934",
   "metadata": {},
   "outputs": [],
   "source": [
    "from collections import Counter"
   ]
  },
  {
   "cell_type": "code",
   "execution_count": 12,
   "id": "826971eb-d40e-4a9a-8b3f-083c76fdefb2",
   "metadata": {},
   "outputs": [
    {
     "name": "stdout",
     "output_type": "stream",
     "text": [
      "23609874\n"
     ]
    }
   ],
   "source": [
    "counter = Counter(list_2)\n",
    "\n",
    "score = 0\n",
    "for i in list_1:\n",
    "    if i in counter.keys():\n",
    "        score += i * counter[i]\n",
    "\n",
    "print(score)"
   ]
  }
 ],
 "metadata": {
  "kernelspec": {
   "display_name": "Python 3 (ipykernel)",
   "language": "python",
   "name": "python3"
  },
  "language_info": {
   "codemirror_mode": {
    "name": "ipython",
    "version": 3
   },
   "file_extension": ".py",
   "mimetype": "text/x-python",
   "name": "python",
   "nbconvert_exporter": "python",
   "pygments_lexer": "ipython3",
   "version": "3.10.9"
  }
 },
 "nbformat": 4,
 "nbformat_minor": 5
}
